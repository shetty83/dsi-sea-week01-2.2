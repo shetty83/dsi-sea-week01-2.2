{
 "cells": [
  {
   "cell_type": "code",
   "execution_count": 1,
   "metadata": {
    "collapsed": false
   },
   "outputs": [
    {
     "data": {
      "text/plain": [
       "36"
      ]
     },
     "execution_count": 1,
     "metadata": {},
     "output_type": "execute_result"
    }
   ],
   "source": [
    "# write a function with one argument. Find the area of a square. \n",
    "def areaSquare(side): \n",
    "    area = side**2\n",
    "    return area\n",
    "\n",
    "areaSquare (6)\n"
   ]
  },
  {
   "cell_type": "code",
   "execution_count": 2,
   "metadata": {
    "collapsed": false
   },
   "outputs": [
    {
     "data": {
      "text/plain": [
       "13.230000000000002"
      ]
     },
     "execution_count": 2,
     "metadata": {},
     "output_type": "execute_result"
    }
   ],
   "source": [
    "# write a function with two arguments. Find the area of a rectangle. \n",
    "def areaRect(length,breadth):\n",
    "    area = length * breadth\n",
    "    return area\n",
    "\n",
    "areaRect(2.7,4.9)"
   ]
  },
  {
   "cell_type": "code",
   "execution_count": 3,
   "metadata": {
    "collapsed": false
   },
   "outputs": [
    {
     "data": {
      "text/plain": [
       "38"
      ]
     },
     "execution_count": 3,
     "metadata": {},
     "output_type": "execute_result"
    }
   ],
   "source": [
    "# write a function with three arguments. Find the surface area of cuboid.\n",
    "def surfaceAreaCuboid(length,breadth,height): \n",
    "    area=2*(length*breadth+breadth*height+length*height)\n",
    "    return area\n",
    "\n",
    "surfaceAreaCuboid(1,3,4)"
   ]
  },
  {
   "cell_type": "code",
   "execution_count": 4,
   "metadata": {
    "collapsed": false
   },
   "outputs": [
    {
     "data": {
      "text/plain": [
       "9"
      ]
     },
     "execution_count": 4,
     "metadata": {},
     "output_type": "execute_result"
    }
   ],
   "source": [
    "# Funtion to get max of 3 numbers\n",
    "def maxNum(num1,num2,num3):\n",
    "    max_number = num1\n",
    "    if num2 > max_number:\n",
    "        max_number = num2\n",
    "    if num3 > max_number:\n",
    "        max_number = num3\n",
    "    return max_number\n",
    "\n",
    "maxNum(3,4,9)\n",
    "    \n",
    "    "
   ]
  },
  {
   "cell_type": "code",
   "execution_count": 5,
   "metadata": {
    "collapsed": false
   },
   "outputs": [
    {
     "data": {
      "text/plain": [
       "20"
      ]
     },
     "execution_count": 5,
     "metadata": {},
     "output_type": "execute_result"
    }
   ],
   "source": [
    "# function to sum all the numbers in a list\n",
    "def sumList(inp_ls):\n",
    "    sum_ls = 0\n",
    "    for item in inp_ls:\n",
    "        sum_ls += item \n",
    "    return sum_ls\n",
    "\n",
    "sample = [8, 2, 3, 0, 7]\n",
    "sumList(sample)"
   ]
  },
  {
   "cell_type": "code",
   "execution_count": 6,
   "metadata": {
    "collapsed": false
   },
   "outputs": [
    {
     "data": {
      "text/plain": [
       "-336"
      ]
     },
     "execution_count": 6,
     "metadata": {},
     "output_type": "execute_result"
    }
   ],
   "source": [
    "# function to multiply all the numbers in a list\n",
    "def mulList(inp_ls):\n",
    "    if len(inp_ls) == 0:\n",
    "        total = 0\n",
    "    else:\n",
    "        total = 1\n",
    "        for item in inp_ls:\n",
    "            total = total * item\n",
    "    return total\n",
    "\n",
    "sample = [8, 2, 3, -1, 7]\n",
    "mulList(sample)   "
   ]
  },
  {
   "cell_type": "code",
   "execution_count": 7,
   "metadata": {
    "collapsed": false
   },
   "outputs": [
    {
     "data": {
      "text/plain": [
       "'yttehs'"
      ]
     },
     "execution_count": 7,
     "metadata": {},
     "output_type": "execute_result"
    }
   ],
   "source": [
    "# function to reverse a string\n",
    "def revStr(string):\n",
    "    output = string[::-1]\n",
    "    return output\n",
    "\n",
    "revStr(\"shetty\")"
   ]
  },
  {
   "cell_type": "code",
   "execution_count": 8,
   "metadata": {
    "collapsed": false
   },
   "outputs": [
    {
     "data": {
      "text/plain": [
       "120"
      ]
     },
     "execution_count": 8,
     "metadata": {},
     "output_type": "execute_result"
    }
   ],
   "source": [
    "# function to calculate the factorial of a number\n",
    "def factNum(number):\n",
    "    if number == 1:\n",
    "        total = 1\n",
    "    else:\n",
    "        total = number * factNum(number - 1)\n",
    "    return total\n",
    "\n",
    "factNum(5)"
   ]
  },
  {
   "cell_type": "code",
   "execution_count": 9,
   "metadata": {
    "collapsed": false
   },
   "outputs": [
    {
     "name": "stdout",
     "output_type": "stream",
     "text": [
      "in range\n"
     ]
    }
   ],
   "source": [
    "# function to check whether a number is in a given range\n",
    "def inRange(num):\n",
    "    a = range(100)\n",
    "    if num in a:\n",
    "        print \"in range\"\n",
    "    else:\n",
    "        print \"not in range\"\n",
    "\n",
    "inRange(20)"
   ]
  },
  {
   "cell_type": "code",
   "execution_count": 10,
   "metadata": {
    "collapsed": false
   },
   "outputs": [
    {
     "name": "stdout",
     "output_type": "stream",
     "text": [
      "upper_case:  3\n",
      "lower_case:  12\n"
     ]
    }
   ],
   "source": [
    "# function that accepts a string and calculate the number of upper case letters and lower case letters\n",
    "def changeCase(string):\n",
    "    upper_case = 0\n",
    "    lower_case = 0\n",
    "    for a in string:\n",
    "        if a.isupper():\n",
    "            upper_case += 1\n",
    "        elif a.islower():\n",
    "            lower_case += 1\n",
    "    print \"upper_case: \", upper_case\n",
    "    print \"lower_case: \", lower_case\n",
    "    \n",
    "changeCase(\"The quick Brow Fox\")    \n",
    "        "
   ]
  },
  {
   "cell_type": "code",
   "execution_count": null,
   "metadata": {
    "collapsed": false
   },
   "outputs": [
    {
     "data": {
      "text/plain": [
       "[1, 2, 3, 4, 5]"
      ]
     },
     "execution_count": 11,
     "metadata": {},
     "output_type": "execute_result"
    }
   ],
   "source": [
    "# function that takes a list and returns a new list with unique elements of the first list.\n",
    "def uniqueList(inp_ls):\n",
    "    output =[]\n",
    "    for item in inp_ls:\n",
    "        if item not in output:\n",
    "            output.append(item)\n",
    "    return output\n",
    "\n",
    "uniqueList([1,2,3,3,3,3,4,5])"
   ]
  },
  {
   "cell_type": "code",
   "execution_count": null,
   "metadata": {
    "collapsed": false
   },
   "outputs": [],
   "source": [
    "# function that takes a number as a parameter and check the number is prime or not\n",
    "def isPrime(num):\n",
    "    x = True \n",
    "    for i in (2, num):\n",
    "        while x:\n",
    "            if num % i == 0:\n",
    "                x = False\n",
    "            else:\n",
    "                x = True\n",
    "    if x:\n",
    "        print \"prime\"\n",
    "    else:\n",
    "        print \"not prime\"\n",
    "        \n",
    "isPrime(5)"
   ]
  },
  {
   "cell_type": "code",
   "execution_count": null,
   "metadata": {
    "collapsed": false
   },
   "outputs": [],
   "source": [
    "# function to print the even numbers from a given list\n",
    "def evenNum(inp_ls):\n",
    "    output = []\n",
    "    for i in inp_ls:\n",
    "        if i%2 == 0:\n",
    "            output.append(i)\n",
    "    return output\n",
    "\n",
    "evenNum([1, 2, 3, 4, 5, 6, 7, 8, 9] )"
   ]
  },
  {
   "cell_type": "code",
   "execution_count": null,
   "metadata": {
    "collapsed": true
   },
   "outputs": [],
   "source": []
  }
 ],
 "metadata": {
  "anaconda-cloud": {},
  "kernelspec": {
   "display_name": "Python [default]",
   "language": "python",
   "name": "python2"
  },
  "language_info": {
   "codemirror_mode": {
    "name": "ipython",
    "version": 2
   },
   "file_extension": ".py",
   "mimetype": "text/x-python",
   "name": "python",
   "nbconvert_exporter": "python",
   "pygments_lexer": "ipython2",
   "version": "2.7.12"
  }
 },
 "nbformat": 4,
 "nbformat_minor": 0
}
